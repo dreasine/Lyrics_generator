{
 "cells": [
  {
   "cell_type": "code",
   "execution_count": 6,
   "metadata": {},
   "outputs": [],
   "source": [
    "#刪除文本中的空行\n",
    "\n",
    "with open(\"lx_songlist_preprocess_zh.txt\",\"r\") as f:\n",
    "    with open(\"lx_songlist_preprocess.txt\",\"w\") as wf:\n",
    "        for line in f.readlines():\n",
    "            data = line.strip()\n",
    "            if len(data)!= 0:\n",
    "                wf.write(data)\n",
    "                wf.write(\"\\n\")\n",
    "        wf.close()\n",
    "    f.close()\n",
    "    \n",
    "\n",
    "    "
   ]
  },
  {
   "cell_type": "code",
   "execution_count": null,
   "metadata": {},
   "outputs": [],
   "source": []
  }
 ],
 "metadata": {
  "kernelspec": {
   "display_name": "Python 3",
   "language": "python",
   "name": "python3"
  },
  "language_info": {
   "codemirror_mode": {
    "name": "ipython",
    "version": 3
   },
   "file_extension": ".py",
   "mimetype": "text/x-python",
   "name": "python",
   "nbconvert_exporter": "python",
   "pygments_lexer": "ipython3",
   "version": "3.5.2"
  }
 },
 "nbformat": 4,
 "nbformat_minor": 2
}
